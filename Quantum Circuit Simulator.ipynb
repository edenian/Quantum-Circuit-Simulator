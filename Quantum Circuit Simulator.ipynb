{
 "cells": [
  {
   "cell_type": "markdown",
   "metadata": {},
   "source": [
    "# Quantum Circuit Simulator"
   ]
  },
  {
   "cell_type": "markdown",
   "metadata": {},
   "source": [
    "This work is written as a part of the application for the Quantum Open Source Foundation Mentorship program. In this project we are going to be implementing a Quantum Circuit Simulator from scratch. I have written several helper functions in order to have a modular structure that will help me track and fix bugs along the way. I will describe in detail how each function works and is relevant to our task. "
   ]
  },
  {
   "cell_type": "markdown",
   "metadata": {},
   "source": [
    "First we are going to import the necessary functions. We are also going to define the text for the error message, in case the user chooses a gate that has not been implemented."
   ]
  },
  {
   "cell_type": "code",
   "execution_count": 1,
   "metadata": {},
   "outputs": [],
   "source": [
    "import numpy as np\n",
    "import random\n",
    "import collections\n",
    "from math import log2\n",
    "\n",
    "ni_error = \"ERROR: Choose one of the implemented gates\""
   ]
  },
  {
   "cell_type": "markdown",
   "metadata": {},
   "source": [
    "### <font color = 'green'> Get Ground State </font>"
   ]
  },
  {
   "cell_type": "markdown",
   "metadata": {},
   "source": [
    "In the template our first objective was to implement a 'get_ground_state' function that takes 'num_qubits' as an input and returns a vector with '1' as a first element and '0' for other elements. \n",
    "\n",
    "The 'ground_state' variable is comprised of two parts: \n",
    "<br>\n",
    "&ensp; 1) First element that we can represent as a list with one element. \n",
    "<br> \n",
    "&ensp; 2) List of the length 'num_elements' - 1, where every element is equal to zero. We have generated it using list comprehension."
   ]
  },
  {
   "cell_type": "code",
   "execution_count": 2,
   "metadata": {},
   "outputs": [],
   "source": [
    "def get_ground_state(num_qubits):\n",
    "    num_elements = 2 ** num_qubits\n",
    "    ground_state = [1] + [0 for i in range(num_elements - 1)]\n",
    "    return ground_state"
   ]
  },
  {
   "cell_type": "markdown",
   "metadata": {},
   "source": [
    "To see if it works lets create a ground state with num_qubits = X:"
   ]
  },
  {
   "cell_type": "code",
   "execution_count": 3,
   "metadata": {},
   "outputs": [
    {
     "data": {
      "text/plain": [
       "[1, 0, 0, 0, 0, 0, 0, 0]"
      ]
     },
     "execution_count": 3,
     "metadata": {},
     "output_type": "execute_result"
    }
   ],
   "source": [
    "X = 3\n",
    "get_ground_state(X)"
   ]
  },
  {
   "cell_type": "markdown",
   "metadata": {},
   "source": [
    "### <font color = 'green'> Make Operator </font>"
   ]
  },
  {
   "cell_type": "markdown",
   "metadata": {},
   "source": [
    "Second part of the tast is implementation of a general 'make_operator' for our solution. We want a function that takes 'total_qubits' in a quantum computer and generates a matrix operator of a given gate for a 'target_qubit' defined by the user."
   ]
  },
  {
   "cell_type": "markdown",
   "metadata": {},
   "source": [
    "First we are going to implement a switch function for our gates. I have taken a time to hardcode unitaries for several popular gates. Additionally, I have added optional arguments for the bonus task of implementing parameterized gates. 'get_unitary' function outputs a string \"error\" in the case user chooses a gate that has not been implemented. This will be useful for adding error messages. Finally, we will also be converting the string to lower in case a user wants to type the name of a gate with capital letters."
   ]
  },
  {
   "cell_type": "code",
   "execution_count": 4,
   "metadata": {},
   "outputs": [],
   "source": [
    "def get_unitary(gate_name, theta = 0, phi = 0, lam = 0):\n",
    "    i_ = np.complex(0, 1)\n",
    "    unitary_collection = {\n",
    "        \"x\"   : np.array([[0, 1], [1, 0]]), \n",
    "        \"y\"   : np.array([[0, -i_], [i_, 0]]),\n",
    "        \"z\"   : np.array([[1, 0], [0, -1]]),\n",
    "        \"s\"   : np.array([[1, 0], [0, np.exp((i_ * np.pi)/2)]]),\n",
    "        \"sdg\" : np.array([[1, 0], [0, np.exp(-1*((i_ * np.pi)/2))]]),\n",
    "        \"h\"   : np.array([[1/np.sqrt(2), 1/np.sqrt(2)], [1/np.sqrt(2), -1/np.sqrt(2)]]),\n",
    "        \"t\"   : np.array([[1, 0], [0, np.exp((i_ * np.pi)/4)]]),\n",
    "        \"tdg\" : np.array([[1, 0], [0, np.exp(-1*((i_ * np.pi)/4))]]),\n",
    "        \"cx\"  : np.array([[1, 0, 0, 0], [0, 1, 0, 0], [0, 0, 0, 1], [0, 0, 1, 0]]),\n",
    "        \"cnot\": np.array([[1, 0, 0, 0], [0, 1, 0, 0], [0, 0, 0, 1], [0, 0, 1, 0]]),\n",
    "        \"u3\"  : np.array([[np.cos(0.5*theta),-np.exp(1.0j*lam)*np.sin(0.5*theta)],\n",
    "                        [np.exp(1.0j*phi)*np.sin(0.5*theta),np.exp(1.0j*(phi+lam))*np.cos(0.5*theta)]])\n",
    "        }\n",
    "    return unitary_collection.get(gate_name.lower(), ni_error)"
   ]
  },
  {
   "cell_type": "markdown",
   "metadata": {},
   "source": [
    "We can show it's functionality by applying it to get a unitary for any of the implemented gates:"
   ]
  },
  {
   "cell_type": "code",
   "execution_count": 5,
   "metadata": {},
   "outputs": [
    {
     "data": {
      "text/plain": [
       "array([[0, 1],\n",
       "       [1, 0]])"
      ]
     },
     "execution_count": 5,
     "metadata": {},
     "output_type": "execute_result"
    }
   ],
   "source": [
    "example_gate = \"x\"\n",
    "\n",
    "get_unitary(example_gate.lower())"
   ]
  },
  {
   "cell_type": "markdown",
   "metadata": {},
   "source": [
    "We can see that the to generate a matrix operator we need to create  a list of the length log<sub>2</sub><i>total_qubits</i> consisting entirely out of identity matrices. The we are going to put in the unitary_gate in place of a target qubit. After that we need to continuously apply a Kronecker product function from left to right."
   ]
  },
  {
   "cell_type": "code",
   "execution_count": 6,
   "metadata": {},
   "outputs": [],
   "source": [
    "def generate_identity_list(total_qubits):\n",
    "    I = np.identity(2)\n",
    "    identity_list = [I] * int(log2(total_qubits))\n",
    "    return identity_list"
   ]
  },
  {
   "cell_type": "markdown",
   "metadata": {},
   "source": [
    "Let's test it:"
   ]
  },
  {
   "cell_type": "code",
   "execution_count": 7,
   "metadata": {},
   "outputs": [
    {
     "data": {
      "text/plain": [
       "[array([[1., 0.],\n",
       "        [0., 1.]]),\n",
       " array([[1., 0.],\n",
       "        [0., 1.]]),\n",
       " array([[1., 0.],\n",
       "        [0., 1.]])]"
      ]
     },
     "execution_count": 7,
     "metadata": {},
     "output_type": "execute_result"
    }
   ],
   "source": [
    "tot_qub = 8\n",
    "\n",
    "generate_identity_list(tot_qub)"
   ]
  },
  {
   "cell_type": "markdown",
   "metadata": {},
   "source": [
    "Running Kronecker product function applies 'np.kron' continuously on a list. Essentially, our entire task for implementing generalised quantum simulator now comes down to swapping the target gates in place of an identity gate."
   ]
  },
  {
   "cell_type": "code",
   "execution_count": 8,
   "metadata": {},
   "outputs": [],
   "source": [
    "def runningkron(identity_list):\n",
    "    count  = 0\n",
    "    answer = 1\n",
    "    while (count != len(identity_list)):\n",
    "        answer = np.kron(answer, identity_list[count])\n",
    "        count += 1\n",
    "    return answer"
   ]
  },
  {
   "cell_type": "code",
   "execution_count": 9,
   "metadata": {},
   "outputs": [
    {
     "data": {
      "text/plain": [
       "array([[1., 0., 0., 0., 0., 0., 0., 0.],\n",
       "       [0., 1., 0., 0., 0., 0., 0., 0.],\n",
       "       [0., 0., 1., 0., 0., 0., 0., 0.],\n",
       "       [0., 0., 0., 1., 0., 0., 0., 0.],\n",
       "       [0., 0., 0., 0., 1., 0., 0., 0.],\n",
       "       [0., 0., 0., 0., 0., 1., 0., 0.],\n",
       "       [0., 0., 0., 0., 0., 0., 1., 0.],\n",
       "       [0., 0., 0., 0., 0., 0., 0., 1.]])"
      ]
     },
     "execution_count": 9,
     "metadata": {},
     "output_type": "execute_result"
    }
   ],
   "source": [
    "total_qubits = 8\n",
    "tester_list  = generate_identity_list(total_qubits)\n",
    "\n",
    "runningkron(tester_list)"
   ]
  },
  {
   "cell_type": "markdown",
   "metadata": {},
   "source": [
    "CNOT gate esssentially deals with putting in the control and target qubits in the correct places. Then adding running krons to each other. We are going to generate two identity_lists for the left side and the right side. Observe that the right side will always contain a target. Therefore we can go ahead and replace the identiy matrix of the right identity_list with the Pauli-X gate at the target location. Then we are going to insert P0x0 and P1x1 at the control location in both identity_lists."
   ]
  },
  {
   "cell_type": "code",
   "execution_count": 10,
   "metadata": {},
   "outputs": [],
   "source": [
    "def cx(total_qubits,control,target):\n",
    "    X = np.array([[0, 1], [1, 0]])\n",
    "    \n",
    "    left  = generate_identity_list(total_qubits)\n",
    "    right = generate_identity_list(total_qubits)\n",
    "    \n",
    "    left[control]  = np.array([[1, 0], [0, 0]])\n",
    "    right[control] = np.array([[0, 0], [0, 1]])\n",
    "    right[target]  = X\n",
    "\n",
    "    return runningkron(left) + runningkron(right)"
   ]
  },
  {
   "cell_type": "markdown",
   "metadata": {},
   "source": [
    "In the task description we have used a CNOT(0, 2) gate in a 3-qubit circuit. After running the cell we can see that the results are identical to the one in the task description:"
   ]
  },
  {
   "cell_type": "code",
   "execution_count": 11,
   "metadata": {},
   "outputs": [
    {
     "data": {
      "text/plain": [
       "array([[1., 0., 0., 0., 0., 0., 0., 0.],\n",
       "       [0., 1., 0., 0., 0., 0., 0., 0.],\n",
       "       [0., 0., 1., 0., 0., 0., 0., 0.],\n",
       "       [0., 0., 0., 1., 0., 0., 0., 0.],\n",
       "       [0., 0., 0., 0., 0., 1., 0., 0.],\n",
       "       [0., 0., 0., 0., 1., 0., 0., 0.],\n",
       "       [0., 0., 0., 0., 0., 0., 0., 1.],\n",
       "       [0., 0., 0., 0., 0., 0., 1., 0.]])"
      ]
     },
     "execution_count": 11,
     "metadata": {},
     "output_type": "execute_result"
    }
   ],
   "source": [
    "tot_qub = 8\n",
    "tester  = [0, 2]\n",
    "control = tester[0]\n",
    "target  = tester[1]\n",
    "\n",
    "cx(tot_qub, control, target)"
   ]
  },
  {
   "cell_type": "markdown",
   "metadata": {},
   "source": [
    "We can now put all of our functions together and construct our 'make_operator' function. Take not of the error handling, we are raising an error message that was defined at the beginning of our program. We are taking into an account scenarios for when the user puts in an incorrect input. We are also extending our support for the additional input formats. User can enter their own unitary or they can put in a string corresponding to a gate name. To avoid getting a numpy error message <i>\"FutureWarning: elementwise comparison failed; returning scalar instead, but in the future will perform elementwise comparison\"</i> we are going to make a type comparison instead of a direct comparison. In case user chooses a \"cx\" we are activating a cx function described earlier. Otherwise we proceed with constructing an identity list and swapping in the gate at the target index. We apply running_kron and return a matrix operator."
   ]
  },
  {
   "cell_type": "code",
   "execution_count": 40,
   "metadata": {},
   "outputs": [],
   "source": [
    "def make_operator(total_qubits, gate_unitary, target_qubit, **kwargs):\n",
    "    # add ability to add gate_unitary in different formats\n",
    "    if (type(gate_unitary) == str): \n",
    "        GU = get_unitary(gate_unitary, **kwargs)\n",
    "    elif (type(gate_unitary) == list):\n",
    "        GU = np.array(gate_unitary)\n",
    "    elif (type(gate_unitary) == np.ndarray):\n",
    "        GU = gate_unitary\n",
    "    else:\n",
    "        raise Exception(ni_error) \n",
    "    # get_unitary passes a str when the user inputs a gate that has not been implemented.\n",
    "    if(type(GU) == str):\n",
    "        raise Exception(ni_error)\n",
    "    else:\n",
    "        # we only use control qubit in cx gate, hence why we can define condition for switching to cx this way\n",
    "        if(len(target_qubit) == 2):\n",
    "            if((type(GU) == np.ndarray) & (len(GU) == 4)):\n",
    "                controlqub = target_qubit[0]\n",
    "                targetqub  = target_qubit[1]\n",
    "                return cx(total_qubits, controlqub, targetqub)\n",
    "            else:\n",
    "                raise Exception(ni_error) \n",
    "        # if not cx the proceed normally\n",
    "        elif(len(target_qubit) == 1):\n",
    "            if((type(GU) == np.ndarray) & (len(GU) == 2)):\n",
    "                identity_list = generate_identity_list(total_qubits)\n",
    "                identity_list[target_qubit[0]] = GU\n",
    "                return runningkron(identity_list)\n",
    "            else:\n",
    "                raise Exception(ni_error)\n",
    "        else:\n",
    "            raise Exception(ni_error)"
   ]
  },
  {
   "cell_type": "markdown",
   "metadata": {},
   "source": [
    "In the task description we have used an X gate acting on third qubit in 3-qubit circuit. After running the cell we can see that the results are identical to the one in the task description:"
   ]
  },
  {
   "cell_type": "code",
   "execution_count": 13,
   "metadata": {},
   "outputs": [
    {
     "data": {
      "text/plain": [
       "array([[0., 1., 0., 0., 0., 0., 0., 0.],\n",
       "       [1., 0., 0., 0., 0., 0., 0., 0.],\n",
       "       [0., 0., 0., 1., 0., 0., 0., 0.],\n",
       "       [0., 0., 1., 0., 0., 0., 0., 0.],\n",
       "       [0., 0., 0., 0., 0., 1., 0., 0.],\n",
       "       [0., 0., 0., 0., 1., 0., 0., 0.],\n",
       "       [0., 0., 0., 0., 0., 0., 0., 1.],\n",
       "       [0., 0., 0., 0., 0., 0., 1., 0.]])"
      ]
     },
     "execution_count": 13,
     "metadata": {},
     "output_type": "execute_result"
    }
   ],
   "source": [
    "tot_qub   = 8\n",
    "gate_name = \"x\"\n",
    "tester    = [2]\n",
    "\n",
    "make_operator(tot_qub, gate_name, tester)"
   ]
  },
  {
   "cell_type": "markdown",
   "metadata": {},
   "source": [
    "Additionally, to check the correct flow of the program we are going to apply a CNOT gate again in the same scenario as when we tested just CNOT. After comparing the two we can see that they are exactly the same:"
   ]
  },
  {
   "cell_type": "code",
   "execution_count": 14,
   "metadata": {},
   "outputs": [
    {
     "data": {
      "text/plain": [
       "array([[1., 0., 0., 0., 0., 0., 0., 0.],\n",
       "       [0., 1., 0., 0., 0., 0., 0., 0.],\n",
       "       [0., 0., 1., 0., 0., 0., 0., 0.],\n",
       "       [0., 0., 0., 1., 0., 0., 0., 0.],\n",
       "       [0., 0., 0., 0., 0., 1., 0., 0.],\n",
       "       [0., 0., 0., 0., 1., 0., 0., 0.],\n",
       "       [0., 0., 0., 0., 0., 0., 0., 1.],\n",
       "       [0., 0., 0., 0., 0., 0., 1., 0.]])"
      ]
     },
     "execution_count": 14,
     "metadata": {},
     "output_type": "execute_result"
    }
   ],
   "source": [
    "tot_qub   = 8\n",
    "gate_name = \"cx\"\n",
    "tester    = [0,2]\n",
    "\n",
    "make_operator(tot_qub, gate_name, tester)"
   ]
  },
  {
   "cell_type": "markdown",
   "metadata": {},
   "source": [
    "### <font color = 'green'> Run Program </font>"
   ]
  },
  {
   "cell_type": "markdown",
   "metadata": {},
   "source": [
    "We are ready to run our program. The key here is to extract the gate names and the targets from the circuit. This can be done by simply iterating through the circuit and assigning the gates and targets to the variables. We can generate matrix operators using our newly extracted variables. We need to make sure that we recieved an array and not the error message, so we are going to raise an exception in case we don't receive an array. We are going to continuosly apply a dot product for every gate until we recieve our answer:"
   ]
  },
  {
   "cell_type": "code",
   "execution_count": 15,
   "metadata": {},
   "outputs": [],
   "source": [
    "def run_program(initial_state, circuit, **kwargs):\n",
    "    global global_1\n",
    "    global global_2\n",
    "    total_qubs = len(initial_state)\n",
    "    ans = initial_state\n",
    "    \n",
    "    for line in circuit:\n",
    "        gate  = line[\"gate\"]\n",
    "        targs = line[\"target\"]\n",
    "        params = line[\"params\"] if (len(circuit[0]) > 2) else {\"theta\":0,\"phi\":0,\"lam\":0} # use ternary operator to pass params.\n",
    "        matrix_operator = make_operator(total_qubs, gate, targs, **params)\n",
    "        if(type(matrix_operator) != np.ndarray): # raise error in case we receive a str\n",
    "            raise Exception(ni_error)\n",
    "        ans = np.dot(matrix_operator, ans)\n",
    "    return ans"
   ]
  },
  {
   "cell_type": "markdown",
   "metadata": {},
   "source": [
    "Let's use some arbitrary parameters and see our results on different input formats:"
   ]
  },
  {
   "cell_type": "code",
   "execution_count": 16,
   "metadata": {},
   "outputs": [
    {
     "data": {
      "text/plain": [
       "array([0., 0., 0., 0., 0., 0., 1., 0.])"
      ]
     },
     "execution_count": 16,
     "metadata": {},
     "output_type": "execute_result"
    }
   ],
   "source": [
    "test_qpu1  = get_ground_state(3)\n",
    "test_circ1 = [\n",
    "{ \"gate\": \"X\", \"target\": [0]}, \n",
    "{ \"gate\": [[1, 0, 0, 0], [0, 1, 0, 0], [0, 0, 0, 1], [0, 0, 1, 0]], \"target\": [0, 1]}\n",
    "]\n",
    "\n",
    "run_program(test_qpu1, test_circ1)"
   ]
  },
  {
   "cell_type": "code",
   "execution_count": 17,
   "metadata": {},
   "outputs": [
    {
     "data": {
      "text/plain": [
       "array([0.+0.j, 0.+0.j, 1.+0.j, 0.+0.j])"
      ]
     },
     "execution_count": 17,
     "metadata": {},
     "output_type": "execute_result"
    }
   ],
   "source": [
    "test_qpu2  = get_ground_state(2)\n",
    "test_circ2 = [\n",
    "{ \"gate\": np.array([[0, 1], [1, 0]]), \"target\": [0]}, \n",
    "{ \"gate\": \"Sdg\", \"target\": [1]}\n",
    "]\n",
    "\n",
    "run_program(test_qpu2, test_circ2)"
   ]
  },
  {
   "cell_type": "markdown",
   "metadata": {},
   "source": [
    "### <font color = 'green'> Measure All </font>"
   ]
  },
  {
   "cell_type": "markdown",
   "metadata": {},
   "source": [
    "We can utilize a choices() function from the random library. It lends itself well to our task. We will generate a list and are going to pull from it using the probability distribution that we get from our state_vector. Note that we are converting probability amplitudes into probabilities. We will also convert the index into a correct format:"
   ]
  },
  {
   "cell_type": "code",
   "execution_count": 18,
   "metadata": {},
   "outputs": [],
   "source": [
    "def measure_all(state_vector):\n",
    "    n = int(log2(len(state_vector)))\n",
    "    nums_list  = list(range(len(state_vector)))\n",
    "    prob_dist  = [np.abs(i)**2 for i in state_vector] #convert probability amplitude \n",
    "    raw_index  = random.choices(nums_list, prob_dist)[0]\n",
    "    form_index = bin(raw_index)[2:].zfill(n) #convert to binary and get rid of the first two chars, \n",
    "                                             #then fill it with leading zeroes\n",
    "    return form_index"
   ]
  },
  {
   "cell_type": "markdown",
   "metadata": {},
   "source": [
    "Let's demonstrate it's use with an example :"
   ]
  },
  {
   "cell_type": "code",
   "execution_count": 19,
   "metadata": {},
   "outputs": [
    {
     "data": {
      "text/plain": [
       "'01'"
      ]
     },
     "execution_count": 19,
     "metadata": {},
     "output_type": "execute_result"
    }
   ],
   "source": [
    "test_qpu3  = get_ground_state(2)\n",
    "test_circ3 = [\n",
    "{ \"gate\": \"h\", \"target\": [0]}, \n",
    "{ \"gate\": \"x\", \"target\": [1]}\n",
    "]\n",
    "\n",
    "test_final_state1 = run_program(test_qpu3, test_circ3)\n",
    "measure_all(test_final_state1)"
   ]
  },
  {
   "cell_type": "markdown",
   "metadata": {},
   "source": [
    "### <font color = 'green'> Get Counts </font>"
   ]
  },
  {
   "cell_type": "markdown",
   "metadata": {},
   "source": [
    "We will apply measure_all function on the state vector in the range num_shots. After which we are going to construct a dictionary using a Counter object. Finally we will sort by the key and convert it into a dictionary, to receive our final answer."
   ]
  },
  {
   "cell_type": "code",
   "execution_count": 20,
   "metadata": {},
   "outputs": [],
   "source": [
    "def get_counts(state_vector, num_shots):\n",
    "    keys = [measure_all(state_vector) for i in range(num_shots)]\n",
    "    answer = dict(collections.Counter(keys)) #Use Counter object to construct a dictionary with indices and values \n",
    "    return dict(sorted(answer.items())) # sort and output the counts"
   ]
  },
  {
   "cell_type": "markdown",
   "metadata": {},
   "source": [
    "Let's use some arbitrary parameters to demonstrate the program in action:"
   ]
  },
  {
   "cell_type": "code",
   "execution_count": 21,
   "metadata": {},
   "outputs": [
    {
     "data": {
      "text/plain": [
       "{'0000': 4980, '0010': 5020}"
      ]
     },
     "execution_count": 21,
     "metadata": {},
     "output_type": "execute_result"
    }
   ],
   "source": [
    "test_qpu4  = get_ground_state(4)\n",
    "test_circ4 = [\n",
    "{ \"gate\": \"h\", \"target\": [2]}, \n",
    "{ \"gate\": \"cx\", \"target\": [0,3]}\n",
    "]\n",
    "\n",
    "test_final_state2 = run_program(test_qpu4, test_circ4)\n",
    "\n",
    "get_counts(test_final_state2, 10000)"
   ]
  },
  {
   "cell_type": "markdown",
   "metadata": {},
   "source": [
    "### <font color = \"green\"> Result </font>\n",
    "\n",
    "Let's use the suggestion in the task description to see if the program works as intended:"
   ]
  },
  {
   "cell_type": "code",
   "execution_count": 22,
   "metadata": {},
   "outputs": [
    {
     "name": "stdout",
     "output_type": "stream",
     "text": [
      "{'00': 510, '11': 490}\n"
     ]
    }
   ],
   "source": [
    "# Define program:\n",
    "\n",
    "my_circuit = [\n",
    "{ \"gate\": \"h\", \"target\": [0] }, \n",
    "{ \"gate\": \"cx\", \"target\": [0, 1] }\n",
    "]\n",
    "\n",
    "\n",
    "# Create \"quantum computer\" with 2 qubits (this is actually just a vector :) )\n",
    "\n",
    "my_qpu = get_ground_state(2)\n",
    "\n",
    "\n",
    "# Run circuit\n",
    "\n",
    "final_state = run_program(my_qpu, my_circuit)\n",
    "\n",
    "\n",
    "# Read results\n",
    "\n",
    "counts = get_counts(final_state, 1000)\n",
    "\n",
    "print(counts)\n",
    "\n",
    "# Should print something like:\n",
    "# {\n",
    "#   \"00\": 502,\n",
    "#   \"11\": 498\n",
    "# }\n",
    "\n",
    "# Voila!\n"
   ]
  },
  {
   "cell_type": "markdown",
   "metadata": {},
   "source": [
    "We can see that the simulator produces the desired output."
   ]
  },
  {
   "cell_type": "markdown",
   "metadata": {},
   "source": [
    "## <font color = \"black\"> Bonus Requirements </font>\n"
   ]
  },
  {
   "cell_type": "markdown",
   "metadata": {},
   "source": [
    "### <font color = \"blue\">Parametric gates</font>"
   ]
  },
  {
   "cell_type": "markdown",
   "metadata": {},
   "source": [
    "We can add the support for parameters by simply setting default values in the get_unitary function. We are going to unpack the contents of parameters dictionary using a <b>**</b> operator. I have taken the liberty of setting default values to the ones described in the task description. We are going to observe our function at work. We will see that after rounding we will get the desired result. Observe that I have decided to put in an argument \"lam\" instead of \"lambda\". This was done because in python lambda is a keyword that signifies an anonymous function. Instead of reworking the existing code, I opted for a quick solution of slightly changing the name. "
   ]
  },
  {
   "cell_type": "code",
   "execution_count": 23,
   "metadata": {},
   "outputs": [],
   "source": [
    "test_params_1 = { \"theta\": 3.1415, \"phi\": 1.5708, \"lam\": -3.1415 }"
   ]
  },
  {
   "cell_type": "code",
   "execution_count": 24,
   "metadata": {},
   "outputs": [],
   "source": [
    "bonus_qpu_1  = get_ground_state(2)\n",
    "bonus_circ_1 = [{ \"gate\": \"u3\", \"params\": test_params_1, \"target\": [0] }]"
   ]
  },
  {
   "cell_type": "code",
   "execution_count": 25,
   "metadata": {},
   "outputs": [
    {
     "data": {
      "text/plain": [
       "{'10': 10000}"
      ]
     },
     "execution_count": 25,
     "metadata": {},
     "output_type": "execute_result"
    }
   ],
   "source": [
    "bonus_final_state_1 = run_program(bonus_qpu_1, bonus_circ_1)\n",
    "\n",
    "get_counts(bonus_final_state_1, 10000)"
   ]
  },
  {
   "cell_type": "markdown",
   "metadata": {},
   "source": [
    "Let's try with different parameters to see if the function indeed takes in the new values for an input."
   ]
  },
  {
   "cell_type": "code",
   "execution_count": 26,
   "metadata": {},
   "outputs": [],
   "source": [
    "test_params_2 = { \"theta\": 1, \"phi\": 1, \"lam\": 1 }"
   ]
  },
  {
   "cell_type": "code",
   "execution_count": 27,
   "metadata": {},
   "outputs": [],
   "source": [
    "bonus_qpu_2  = get_ground_state(2)\n",
    "bonus_circ_2 = [{ \"gate\": \"u3\", \"params\": test_params_2, \"target\": [0] }]"
   ]
  },
  {
   "cell_type": "markdown",
   "metadata": {},
   "source": [
    "We have only changed the parameters and left everything else exactly the same. We got a different output, hence we achieved our goal."
   ]
  },
  {
   "cell_type": "code",
   "execution_count": 28,
   "metadata": {},
   "outputs": [
    {
     "data": {
      "text/plain": [
       "{'00': 7687, '10': 2313}"
      ]
     },
     "execution_count": 28,
     "metadata": {},
     "output_type": "execute_result"
    }
   ],
   "source": [
    "bonus_final_state_2 = run_program(bonus_qpu_2, bonus_circ_2)\n",
    "\n",
    "get_counts(bonus_final_state_2, 10000)"
   ]
  },
  {
   "cell_type": "markdown",
   "metadata": {},
   "source": [
    "Finally, let's see if we are going to get the same values as the ones outlined in the task. We are going to unpack the dictionary within the make_operator function to get the values for theta, phi and lambda."
   ]
  },
  {
   "cell_type": "code",
   "execution_count": 29,
   "metadata": {},
   "outputs": [],
   "source": [
    "test_params_3 = { \"theta\": 3.1415, \"phi\": 1.5708, \"lam\": -3.1415 }"
   ]
  },
  {
   "cell_type": "code",
   "execution_count": 30,
   "metadata": {},
   "outputs": [
    {
     "name": "stdout",
     "output_type": "stream",
     "text": [
      "[[ 4.63267949e-05+0.00000000e+00j  9.99999995e-01+9.26535896e-05j]\n",
      " [-3.67320510e-06+9.99999999e-01j  4.46251166e-09-4.63267947e-05j]]\n"
     ]
    }
   ],
   "source": [
    "test_operator_1 = make_operator(2,\"u3\",[0], **test_params_3)\n",
    "\n",
    "print(test_operator_1)"
   ]
  },
  {
   "cell_type": "markdown",
   "metadata": {},
   "source": [
    "While these numbers look like they could work, we want to get the version that will be simpler to understand and will match the one specified in the task description:\n",
    "\n",
    "```\n",
    "[[ 0+0j,  1+0j],\n",
    " [ 0+1j,  0+0j]]\n",
    "```\n",
    "\n",
    "We will need to round our output:"
   ]
  },
  {
   "cell_type": "code",
   "execution_count": 31,
   "metadata": {},
   "outputs": [],
   "source": [
    "def complex_rounder(num):\n",
    "    return complex(round(num.real),round(num.imag))"
   ]
  },
  {
   "cell_type": "code",
   "execution_count": 32,
   "metadata": {
    "scrolled": true
   },
   "outputs": [],
   "source": [
    "roundedop = []\n",
    "roundedop.append([complex_rounder(test_operator_1[0][0]), complex_rounder(test_operator_1[0][1])])\n",
    "roundedop.append([complex_rounder(test_operator_1[1][0]), complex_rounder(test_operator_1[1][1])])"
   ]
  },
  {
   "cell_type": "markdown",
   "metadata": {},
   "source": [
    "While our numbers are not exactly the same as the ones in the example we see that our output is very close that might be attributed to a rounding method."
   ]
  },
  {
   "cell_type": "code",
   "execution_count": 33,
   "metadata": {},
   "outputs": [
    {
     "name": "stdout",
     "output_type": "stream",
     "text": [
      "[[ 0.+0.j  1.+0.j]\n",
      " [-0.+1.j  0.-0.j]]\n"
     ]
    }
   ],
   "source": [
    "print(np.array(roundedop))"
   ]
  },
  {
   "cell_type": "markdown",
   "metadata": {},
   "source": [
    "### <font color = \"blue\"> Variational Quantum Algorithms </font>"
   ]
  },
  {
   "cell_type": "markdown",
   "metadata": {},
   "source": [
    "My implementation is not the same as specified in the task description. I have made several attempts to implement it the way it was specified, but I reasoned that it will require more source code alteration, which might cause the program to behave unpredictably. "
   ]
  },
  {
   "cell_type": "code",
   "execution_count": 34,
   "metadata": {},
   "outputs": [],
   "source": [
    "params = [3.1415, 1.5708]\n",
    "\n",
    "globals()[\"global_1\"] = params[0]\n",
    "globals()[\"global_2\"] = params[1]"
   ]
  },
  {
   "cell_type": "code",
   "execution_count": 35,
   "metadata": {},
   "outputs": [],
   "source": [
    "bonus_qpu_3  = get_ground_state(2)\n",
    "bonus_circ_3 = [{ \"gate\": \"u3\", \"target\": [0],\"params\": { \"theta\": global_1, \"phi\":global_2, \"lam\": -3.1415 }}]"
   ]
  },
  {
   "cell_type": "code",
   "execution_count": 36,
   "metadata": {},
   "outputs": [
    {
     "data": {
      "text/plain": [
       "{'10': 10000}"
      ]
     },
     "execution_count": 36,
     "metadata": {},
     "output_type": "execute_result"
    }
   ],
   "source": [
    "bonus_final_state_3 = run_program(bonus_qpu_3, bonus_circ_3)\n",
    "\n",
    "get_counts(bonus_final_state_3, 10000)"
   ]
  },
  {
   "cell_type": "markdown",
   "metadata": {},
   "source": [
    "We can confirm that this works, by changing the parameters:"
   ]
  },
  {
   "cell_type": "code",
   "execution_count": 37,
   "metadata": {},
   "outputs": [],
   "source": [
    "params = [1, 2]\n",
    "\n",
    "globals()[\"global_1\"] = params[0]\n",
    "globals()[\"global_2\"] = params[1]"
   ]
  },
  {
   "cell_type": "code",
   "execution_count": 38,
   "metadata": {},
   "outputs": [],
   "source": [
    "bonus_qpu_3  = get_ground_state(2)\n",
    "bonus_circ_3 = [{ \"gate\": \"u3\", \"target\": [0],\"params\": { \"theta\": global_1, \"phi\":global_2, \"lam\": -3.1415 }}]"
   ]
  },
  {
   "cell_type": "code",
   "execution_count": 39,
   "metadata": {},
   "outputs": [
    {
     "data": {
      "text/plain": [
       "{'00': 7655, '10': 2345}"
      ]
     },
     "execution_count": 39,
     "metadata": {},
     "output_type": "execute_result"
    }
   ],
   "source": [
    "bonus_final_state_3 = run_program(bonus_qpu_3, bonus_circ_3)\n",
    "\n",
    "get_counts(bonus_final_state_3, 10000)"
   ]
  }
 ],
 "metadata": {
  "kernelspec": {
   "display_name": "Python 3",
   "language": "python",
   "name": "python3"
  },
  "language_info": {
   "codemirror_mode": {
    "name": "ipython",
    "version": 3
   },
   "file_extension": ".py",
   "mimetype": "text/x-python",
   "name": "python",
   "nbconvert_exporter": "python",
   "pygments_lexer": "ipython3",
   "version": "3.7.4"
  }
 },
 "nbformat": 4,
 "nbformat_minor": 4
}
